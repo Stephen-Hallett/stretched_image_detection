{
 "cells": [
  {
   "cell_type": "code",
   "execution_count": 11,
   "metadata": {},
   "outputs": [],
   "source": [
    "import cv2 as cv\n",
    "import numpy as np\n",
    "wang = cv.imread(\"wang.jpeg\")\n",
    "\n",
    "stretch = 2\n",
    "\n",
    "horizontal_stretch_mat = np.float32([[stretch, 0, 0],\n",
    "                                   [0, 1, 0]])\n",
    "vertical_stretch_mat = np.float32([[1, 0, 0],\n",
    "                                [0, stretch, 0]])"
   ]
  },
  {
   "cell_type": "code",
   "execution_count": 14,
   "metadata": {},
   "outputs": [],
   "source": [
    "horizontal_stretch_im = cv.warpAffine(wang, horizontal_stretch_mat, (wang.shape[0]*stretch, wang.shape[1]))\n",
    "vertical_stretch_im = cv.warpAffine(wang, vertical_stretch_mat, (wang.shape[0], wang.shape[1]*stretch))"
   ]
  },
  {
   "cell_type": "code",
   "execution_count": 15,
   "metadata": {},
   "outputs": [
    {
     "data": {
      "text/plain": [
       "113"
      ]
     },
     "execution_count": 15,
     "metadata": {},
     "output_type": "execute_result"
    }
   ],
   "source": [
    "cv.imshow(\"horizontal stretch\", horizontal_stretch_im)\n",
    "cv.waitKey(0)"
   ]
  },
  {
   "cell_type": "code",
   "execution_count": 39,
   "metadata": {},
   "outputs": [],
   "source": [
    "def get_stretch_score(image: np.ndarray) -> float:\n",
    "    \"\"\"\n",
    "    Get the second derivative in x and y directions & calculate the ratio of the two\n",
    "    \"\"\"\n",
    "    grad_x = cv.Sobel(image, cv.CV_64F, 1, 0)\n",
    "    grad_y = cv.Sobel(image, cv.CV_64F, 0, 1)\n",
    "    grad_2x = cv.Sobel(grad_x, cv.CV_64F, 1, 0)\n",
    "    grad_2y = cv.Sobel(grad_y, cv.CV_64F, 0, 1)\n",
    "    mean_x = np.mean(grad_2x.flatten())\n",
    "    mean_y = np.mean(grad_2y.flatten())\n",
    "    print(\"Avg x second derivative:\", mean_x)\n",
    "    print(\"Avg y second derivative:\", mean_y)\n",
    "    ratio = (mean_x-mean_y + 1E-7)/1\n",
    "    return ratio"
   ]
  },
  {
   "cell_type": "code",
   "execution_count": 40,
   "metadata": {},
   "outputs": [
    {
     "name": "stdout",
     "output_type": "stream",
     "text": [
      "Avg x second derivative: -0.8946604166666666\n",
      "Avg y second derivative: -0.0047083333333333335\n"
     ]
    },
    {
     "data": {
      "text/plain": [
       "-0.8899519833333334"
      ]
     },
     "execution_count": 40,
     "metadata": {},
     "output_type": "execute_result"
    }
   ],
   "source": [
    "get_stretch_score(horizontal_stretch_im)"
   ]
  },
  {
   "cell_type": "code",
   "execution_count": 41,
   "metadata": {},
   "outputs": [
    {
     "name": "stdout",
     "output_type": "stream",
     "text": [
      "Avg x second derivative: -0.0027796875\n",
      "Avg y second derivative: -0.8070265625\n"
     ]
    },
    {
     "data": {
      "text/plain": [
       "0.804246975"
      ]
     },
     "execution_count": 41,
     "metadata": {},
     "output_type": "execute_result"
    }
   ],
   "source": [
    "\n",
    "get_stretch_score(vertical_stretch_im)"
   ]
  },
  {
   "cell_type": "code",
   "execution_count": 42,
   "metadata": {},
   "outputs": [
    {
     "name": "stdout",
     "output_type": "stream",
     "text": [
      "Avg x second derivative: -0.0029625\n",
      "Avg y second derivative: -0.0051\n"
     ]
    },
    {
     "data": {
      "text/plain": [
       "0.0021376000000000004"
      ]
     },
     "execution_count": 42,
     "metadata": {},
     "output_type": "execute_result"
    }
   ],
   "source": [
    "get_stretch_score(wang)"
   ]
  }
 ],
 "metadata": {
  "kernelspec": {
   "display_name": "Python 3",
   "language": "python",
   "name": "python3"
  },
  "language_info": {
   "codemirror_mode": {
    "name": "ipython",
    "version": 3
   },
   "file_extension": ".py",
   "mimetype": "text/x-python",
   "name": "python",
   "nbconvert_exporter": "python",
   "pygments_lexer": "ipython3",
   "version": "3.9.6"
  }
 },
 "nbformat": 4,
 "nbformat_minor": 2
}
